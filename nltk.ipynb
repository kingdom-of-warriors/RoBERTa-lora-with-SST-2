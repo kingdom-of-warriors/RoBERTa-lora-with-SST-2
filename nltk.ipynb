{
 "cells": [
  {
   "cell_type": "code",
   "execution_count": 3,
   "metadata": {},
   "outputs": [],
   "source": [
    "import nltk\n",
    "import nltk\n",
    "from nltk.corpus import stopwords\n",
    "from nltk.stem import WordNetLemmatizer\n",
    "import re\n",
    "from datasets import load_dataset"
   ]
  },
  {
   "cell_type": "code",
   "execution_count": 5,
   "metadata": {},
   "outputs": [
    {
     "name": "stderr",
     "output_type": "stream",
     "text": [
      "Using the latest cached version of the dataset since stanfordnlp/sst2 couldn't be found on the Hugging Face Hub\n",
      "Found the latest cached dataset configuration 'default' at /home/ljr/.cache/huggingface/datasets/stanfordnlp___sst2/default/0.0.0/8d51e7e4887a4caaa95b3fbebbf53c0490b58bbb (last modified on Sun Jul 21 11:17:31 2024).\n"
     ]
    },
    {
     "name": "stdout",
     "output_type": "stream",
     "text": [
      "Dataset({\n",
      "    features: ['text', 'label'],\n",
      "    num_rows: 67349\n",
      "})\n"
     ]
    }
   ],
   "source": [
    "# 加载SST-2数据集\n",
    "dataset = load_dataset(\"stanfordnlp/sst2\")\n",
    "\n",
    "# 初始化词形还原器\n",
    "lemmatizer = WordNetLemmatizer()\n",
    "stop_words = set(stopwords.words('english'))\n",
    "\n",
    "def clean_text(text):\n",
    "    # 转为小写\n",
    "    text = text.lower()\n",
    "    # 去除HTML标签\n",
    "    text = re.sub(r'<.*?>', '', text)\n",
    "    # 去除标点符号和特殊字符\n",
    "    text = re.sub(r'[^\\w\\s]', '', text)\n",
    "    # 去除数字\n",
    "    text = re.sub(r'\\d+', '', text)\n",
    "    # 去除停用词并进行词形还原\n",
    "    words = text.split()\n",
    "    words = [lemmatizer.lemmatize(word) for word in words if word not in stop_words]\n",
    "    return ' '.join(words)\n",
    "\n",
    "# 对训练集进行数据清洗\n",
    "cleaned_train_texts = [clean_text(text) for text in dataset['train']['sentence']]\n",
    "cleaned_train_labels = dataset['train']['label']\n",
    "\n",
    "# 将清洗后的数据集构建为新的Dataset对象\n",
    "from datasets import Dataset\n",
    "\n",
    "cleaned_train_dataset = Dataset.from_dict({\n",
    "    'text': cleaned_train_texts,\n",
    "    'label': cleaned_train_labels\n",
    "})\n",
    "\n"
   ]
  },
  {
   "cell_type": "code",
   "execution_count": 19,
   "metadata": {},
   "outputs": [
    {
     "name": "stdout",
     "output_type": "stream",
     "text": [
      "{'text': 'demonstrates director hollywood blockbuster patriot game still turn small personal film emotional wallop', 'label': 1}\n",
      "demonstrates that the director of such hollywood blockbusters as patriot games can still turn out a small , personal film with an emotional wallop .  1\n"
     ]
    }
   ],
   "source": [
    "# 查看清洗后的数据集\n",
    "i = 6\n",
    "print(cleaned_train_dataset[i])\n",
    "print(dataset['train']['sentence'][i], dataset['train']['label'][i])"
   ]
  },
  {
   "cell_type": "code",
   "execution_count": 11,
   "metadata": {},
   "outputs": [
    {
     "name": "stdout",
     "output_type": "stream",
     "text": [
      "Dataset({\n",
      "    features: ['idx', 'sentence', 'label'],\n",
      "    num_rows: 67349\n",
      "})\n"
     ]
    }
   ],
   "source": []
  }
 ],
 "metadata": {
  "kernelspec": {
   "display_name": "AI",
   "language": "python",
   "name": "python3"
  },
  "language_info": {
   "codemirror_mode": {
    "name": "ipython",
    "version": 3
   },
   "file_extension": ".py",
   "mimetype": "text/x-python",
   "name": "python",
   "nbconvert_exporter": "python",
   "pygments_lexer": "ipython3",
   "version": "3.9.19"
  }
 },
 "nbformat": 4,
 "nbformat_minor": 2
}
