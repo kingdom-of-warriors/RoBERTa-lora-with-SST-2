{
 "cells": [
  {
   "cell_type": "code",
   "execution_count": 3,
   "metadata": {},
   "outputs": [],
   "source": [
    "import nltk\n",
    "import pandas as pd\n",
    "\n",
    "from pprint import pprint"
   ]
  },
  {
   "cell_type": "code",
   "execution_count": 5,
   "metadata": {},
   "outputs": [
    {
     "name": "stdout",
     "output_type": "stream",
     "text": [
      "The film has the courage of its convictions and excellent performances on its side .\n"
     ]
    }
   ],
   "source": [
    "def small_sst(path): \n",
    "    f = open(path)\n",
    "    ds = []\n",
    "    label = []\n",
    "    for line in f:\n",
    "        text, l = line.split('\\t')\n",
    "        ds.append(text)\n",
    "        label.append(int(l[0]))\n",
    "    return {'text': ds, 'label': label}\n",
    "\n",
    "train_ds = small_sst(\"SST-2/train.txt\")\n",
    "# test_ds = Dataset.from_dict(small_sst(\"SST-2/test.txt\"))\n",
    "# 创建DatasetDict对象\n",
    "# dataset = DatasetDict({\n",
    "#     'train': train_ds,\n",
    "#     'validation': test_ds\n",
    "# })\n",
    "\n",
    "# 打印数据集信息\n",
    "print(train_ds['text'][2149])"
   ]
  }
 ],
 "metadata": {
  "kernelspec": {
   "display_name": "AI",
   "language": "python",
   "name": "python3"
  },
  "language_info": {
   "codemirror_mode": {
    "name": "ipython",
    "version": 3
   },
   "file_extension": ".py",
   "mimetype": "text/x-python",
   "name": "python",
   "nbconvert_exporter": "python",
   "pygments_lexer": "ipython3",
   "version": "3.9.19"
  }
 },
 "nbformat": 4,
 "nbformat_minor": 2
}
